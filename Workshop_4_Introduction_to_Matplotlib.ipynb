{
 "cells": [
  {
   "cell_type": "markdown",
   "metadata": {
    "collapsed": true
   },
   "source": [
    "## Introduction to Matplotlib ##\n",
    "We will learn:\n",
    "\n",
    "a) How to install Matplotlib?\n",
    "\n",
    "b) How to check if it got installed?\n",
    "\n",
    "c) Understand how to have visualizations in the ipython\n",
    "\n",
    "d) Use matplotlib to draw plots - lineplot, histograms, scatterplots"
   ]
  },
  {
   "cell_type": "code",
   "execution_count": null,
   "metadata": {
    "collapsed": false
   },
   "outputs": [],
   "source": [
    "#Remember these will become the standard imports from now on!\n",
    "import numpy as np\n",
    "\n",
    "from pandas import Series,DataFrame\n",
    "import pandas as pd\n",
    "\n",
    "# New import for matplotlib\n",
    "\n",
    "import matplotlib.pyplot as plt\n",
    "%matplotlib inline"
   ]
  },
  {
   "cell_type": "markdown",
   "metadata": {
    "collapsed": false
   },
   "source": [
    "### Line Charts ###\n",
    "\n",
    "Line charts is for connecting (x,y) co-ordinates using lines. Hence, can be used for sine, cosine functions too!"
   ]
  },
  {
   "cell_type": "code",
   "execution_count": null,
   "metadata": {
    "collapsed": false
   },
   "outputs": [],
   "source": [
    "#Generate x,y co-ordinates \n",
    "# Linearly spaced data - starting point, ending point, no.of points in between.\n",
    "x = np.linspace(0,10,100)\n",
    "\n",
    "y = np.sin(x);"
   ]
  },
  {
   "cell_type": "code",
   "execution_count": null,
   "metadata": {
    "collapsed": false
   },
   "outputs": [],
   "source": [
    "plt.plot(x,y)\n",
    "plt.show();"
   ]
  },
  {
   "cell_type": "code",
   "execution_count": null,
   "metadata": {
    "collapsed": false
   },
   "outputs": [],
   "source": [
    "# LET'S DO IT TOGETHER:  \n",
    "# Try changing the x =  np.linspace(0,10,10) to generate 100 points.\n",
    "# Plot the values again and print\n",
    "#\n",
    "# Add X-axis label, Y-axis-label, Title\n",
    "# Use the following functions:\n",
    "# plt.xlabel(\"X-value\") \n",
    "# plt.ylabel(\"Sin(X) value\") \n",
    "# plt.title(\"Sin(X) wave\")"
   ]
  }
 ],
 "metadata": {
  "anaconda-cloud": {},
  "kernelspec": {
   "display_name": "Python [conda root]",
   "language": "python",
   "name": "conda-root-py"
  },
  "language_info": {
   "codemirror_mode": {
    "name": "ipython",
    "version": 2
   },
   "file_extension": ".py",
   "mimetype": "text/x-python",
   "name": "python",
   "nbconvert_exporter": "python",
   "pygments_lexer": "ipython2",
   "version": "2.7.13"
  }
 },
 "nbformat": 4,
 "nbformat_minor": 1
}
