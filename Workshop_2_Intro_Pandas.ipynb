{
 "cells": [
  {
   "cell_type": "markdown",
   "metadata": {
    "collapsed": true,
    "deletable": true,
    "editable": true
   },
   "source": [
    "## Introduction to Pandas ##\n",
    "We will learn:\n",
    "\n",
    "a) What is Pandas?\n",
    "\n",
    "b) How to install Pandas?\n",
    "\n",
    "c) What is a Series ?\n",
    "\n",
    "d) Viewing data in a series\n",
    "\n",
    "e) Series to Dictionary and vice-versa."
   ]
  },
  {
   "cell_type": "code",
   "execution_count": null,
   "metadata": {
    "collapsed": false,
    "deletable": true,
    "editable": true
   },
   "outputs": [],
   "source": [
    "#Remember these will become the standard imports from now on!\n",
    "import numpy as np\n",
    "\n",
    "from pandas import Series,DataFrame\n",
    "import pandas as pd\n"
   ]
  },
  {
   "cell_type": "code",
   "execution_count": null,
   "metadata": {
    "collapsed": false,
    "deletable": true,
    "editable": true
   },
   "outputs": [],
   "source": [
    "#Lets create a Series (array of data and data labels, its index)\n",
    "\n",
    "obj = Series([3,6,9,12])\n",
    "\n",
    "#Show\n",
    "obj"
   ]
  },
  {
   "cell_type": "code",
   "execution_count": null,
   "metadata": {
    "collapsed": false,
    "deletable": true,
    "editable": true
   },
   "outputs": [],
   "source": [
    "#Lets show the values\n",
    "obj.values"
   ]
  },
  {
   "cell_type": "code",
   "execution_count": null,
   "metadata": {
    "collapsed": false,
    "deletable": true,
    "editable": true
   },
   "outputs": [],
   "source": [
    "obj.shape"
   ]
  },
  {
   "cell_type": "code",
   "execution_count": null,
   "metadata": {
    "collapsed": false,
    "deletable": true,
    "editable": true
   },
   "outputs": [],
   "source": [
    "#Now lets create a Series with an index\n",
    "\n",
    "#WW2 casualties \n",
    "ww2_cas = Series([8700000,4300000,3000000,2100000,400000],index=['USSR','Germany','China','Japan','USA'])\n",
    "\n",
    "#Show\n",
    "ww2_cas"
   ]
  },
  {
   "cell_type": "code",
   "execution_count": null,
   "metadata": {
    "collapsed": false,
    "deletable": true,
    "editable": true
   },
   "outputs": [],
   "source": [
    "#Now we can use index values to select Series values\n",
    "print \"ww2_cas['USA']:\", ww2_cas['USA']\n",
    "\n",
    "#Check who had casualties greater than 4 million\n",
    "print \"\\nww2_cas[ww2_cas>4000000]: \" , ww2_cas[ww2_cas>4000000]\n",
    "\n",
    "#Check if USSR is in Series\n",
    "\n",
    "print \"\\n'USSR' in ww2_cas: \" , 'USSR' in ww2_cas"
   ]
  },
  {
   "cell_type": "markdown",
   "metadata": {
    "deletable": true,
    "editable": true
   },
   "source": [
    "A dictionary is a key-value pair. We can use dictionary to create a series."
   ]
  },
  {
   "cell_type": "code",
   "execution_count": null,
   "metadata": {
    "collapsed": false,
    "deletable": true,
    "editable": true
   },
   "outputs": [],
   "source": [
    "#Can convert Series into Python dictionary\n",
    "ww2_dict = ww2_cas.to_dict()\n",
    "\n",
    "#Show\n",
    "print \"Dictionary:\" , ww2_dict\n",
    "\n",
    "#Can convert back into a Series\n",
    "WW2_Series = Series(ww2_dict)\n",
    "\n",
    "print \"\\nSeries:\",  WW2_Series\n",
    "\n",
    "print \"\\nSWW2_Series['China']: \", WW2_Series['China']"
   ]
  },
  {
   "cell_type": "code",
   "execution_count": null,
   "metadata": {
    "collapsed": false,
    "deletable": true,
    "editable": true
   },
   "outputs": [],
   "source": [
    "# LET'S DO IT TOGETHER:  \n",
    "# a) Create a new Series with index 100,500,1000,2000 and values 10000, 200000, 800000, 2000000\n",
    "# b) Convert the above Series to a dictionary\n",
    "# c) Add a header to the Series using: \n",
    "#           We can give Series names\n",
    "#          <series_object>.name = \"World War 2 Casualties\"\n",
    "# d) Add a header to the Series using: \n",
    "#            We can also name index\n",
    "#            <series_object>.index.name = 'Countries'\n",
    "\n",
    "newS = Series([10000, 200000, 800000, 2000000],index=[100,500,1000,2000])\n",
    "newS.to_dict()\n",
    "\n",
    "newS.name = \"Currency Notes Availability\"\n",
    "newS.index.name = \"Currency\"\n",
    "newS"
   ]
  },
  {
   "cell_type": "markdown",
   "metadata": {
    "deletable": true,
    "editable": true
   },
   "source": [
    "## Check point ##\n",
    "Series can be thought of a column in a table where each entry in the column contains an index. Pandas can help us navigate through the column values using the index."
   ]
  }
 ],
 "metadata": {
  "anaconda-cloud": {},
  "kernelspec": {
   "display_name": "Python 3",
   "language": "python",
   "name": "python3"
  },
  "language_info": {
   "codemirror_mode": {
    "name": "ipython",
    "version": 3
   },
   "file_extension": ".py",
   "mimetype": "text/x-python",
   "name": "python",
   "nbconvert_exporter": "python",
   "pygments_lexer": "ipython3",
   "version": "3.5.2"
  }
 },
 "nbformat": 4,
 "nbformat_minor": 1
}
