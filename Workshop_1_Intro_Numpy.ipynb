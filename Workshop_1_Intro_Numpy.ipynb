{
 "cells": [
  {
   "cell_type": "markdown",
   "metadata": {
    "collapsed": true
   },
   "source": [
    "## Getting Started & Introduction to Numpy ##\n",
    "This introduction will teach you to do:\n",
    "\n",
    "a) Learn to use the Jupyter Notebook and execute commands.\n",
    "\n",
    "b) Create a list in Python.\n",
    "\n",
    "c) Create an array using Numpy.\n",
    "\n",
    "d) Understand the difference between the PYTHON list and NUMPY array."
   ]
  },
  {
   "cell_type": "code",
   "execution_count": null,
   "metadata": {
    "collapsed": false
   },
   "outputs": [],
   "source": [
    "# Test whether you are able to print something\n",
    "print 'Hi there! Machine Learning is very easy!! This workshop will teach you that!'"
   ]
  },
  {
   "cell_type": "code",
   "execution_count": null,
   "metadata": {
    "collapsed": true
   },
   "outputs": [],
   "source": [
    "# This is a list in PYTHON. List is similar to an array!\n",
    "List1 = [1,2,3]"
   ]
  },
  {
   "cell_type": "code",
   "execution_count": null,
   "metadata": {
    "collapsed": false
   },
   "outputs": [],
   "source": [
    "# A for loop to print the elements in a list.\n",
    "#\n",
    "# NOTE: For first time users, there should be an indent in the second line!\n",
    "# \n",
    "# TRY IT: Try removing the indent!\n",
    "#\n",
    "print 'Elements in the list are:';\n",
    "for element in List1:\n",
    "    print element;"
   ]
  },
  {
   "cell_type": "code",
   "execution_count": null,
   "metadata": {
    "collapsed": false
   },
   "outputs": [],
   "source": [
    "#Print another line - what is the change here ?\n",
    "#NOTICE that you can use \\n!\n",
    "print '\\nNumpy array:';\n",
    "\n",
    "#IMPORT statement for getting NUMPY in.\n",
    "import numpy as np;\n",
    "\n",
    "#This is how we can create a NUMPY ARRAY\n",
    "numpyArray = np.array([1,2,3,4]);\n",
    "\n",
    "#Print the elements of the array\n",
    "for element in numpyArray:\n",
    "    print element;\n",
    "    \n",
    "#Directly print the array\n",
    "print numpyArray;"
   ]
  },
  {
   "cell_type": "code",
   "execution_count": null,
   "metadata": {
    "collapsed": true
   },
   "outputs": [],
   "source": []
  },
  {
   "cell_type": "code",
   "execution_count": null,
   "metadata": {
    "collapsed": false
   },
   "outputs": [],
   "source": [
    "# LET'S DO IT TOGETHER:  \n",
    "# a) Create 2 new numpy arrays and add them together. Print the result.\n",
    "# b) Create 2 python lists and add them together. Print the result.\n",
    "\n",
    "\n",
    "numpyArray2 = np.array([1,2,3,4]);\n",
    "numpyArray3 = np.array([1,2,3,4]);\n",
    "\n",
    "arrayA = np.array([[1,2,3,4], [5,6,7,8], [9,10,11,12]])\n",
    "arrayB = np.array([[1,2,3,4], [1,2,3,4], [1,2,3,4]])\n",
    "\n",
    "\n",
    "# This is how we can add the array\n",
    "numpyArray4 = numpyArray2 + numpyArray3;\n",
    "\n",
    "print 'Numpy Array: \\n'\n",
    "#print the array\n",
    "for element in numpyArray4:\n",
    "    print element;\n",
    "\n",
    "print '\\n Output of List: '\n",
    "List2 = [1,2,3,4]\n",
    "List3 = [1,2,3,4]\n",
    "\n",
    "#Add the lists together\n",
    "List4 = List2 + List3\n",
    "\n",
    "List4.append(100)\n",
    "\n",
    "#print the list\n",
    "for element in List4:\n",
    "    print element;\n"
   ]
  },
  {
   "cell_type": "code",
   "execution_count": null,
   "metadata": {
    "collapsed": false
   },
   "outputs": [],
   "source": [
    "\n",
    "numpyArray5 = [[1,2,3],[4,5,6],[7,8,9]]\n",
    "numpyArray6 = [[1,2,3],[4,5,6],[7,8,9]]\n",
    "\n",
    "numpyArray7 = numpyArray5 + numpyArray6\n",
    "\n",
    "print 'Check me!!'\n",
    "print ' Addition:'\n",
    "for element in numpyArray7:\n",
    "    print element;\n",
    "\n",
    "print 'Was the addition right ?'    \n",
    "    \n",
    "numpyArray8 = np.square(numpyArray7)\n",
    "print('\\n Square:')\n",
    "for element in numpyArray8:\n",
    "    print element;\n",
    "   \n",
    "numpyArray9 = np.sqrt(numpyArray8);\n",
    "print('\\n Sqrt')\n",
    "for element in numpyArray9:\n",
    "    print element;\n",
    "\n",
    "\n",
    "numpyArray5[0][0]\n",
    "numpyArray5[0][2]\n",
    "\n"
   ]
  },
  {
   "cell_type": "code",
   "execution_count": null,
   "metadata": {
    "collapsed": false
   },
   "outputs": [],
   "source": [
    "arrayC = arrayA + arrayB\n",
    "print('\\n Values: ')\n",
    "for element in arrayC:\n",
    "    print element;"
   ]
  },
  {
   "cell_type": "code",
   "execution_count": null,
   "metadata": {
    "collapsed": false
   },
   "outputs": [],
   "source": [
    "#Dot Products too\n",
    "arrayDot1 = np.array([1,2,3,4])\n",
    "arrayDot2 = np.array([1,2,3,4])\n",
    "\n",
    "dotPdt = np.dot(arrayDot1, arrayDot2)\n",
    "dotPdt"
   ]
  },
  {
   "cell_type": "code",
   "execution_count": null,
   "metadata": {
    "collapsed": false
   },
   "outputs": [],
   "source": [
    "#To understand the dimension\n",
    "np.shape(arrayC)"
   ]
  },
  {
   "cell_type": "markdown",
   "metadata": {},
   "source": []
  },
  {
   "cell_type": "markdown",
   "metadata": {},
   "source": [
    "## Check point ##\n",
    "\n",
    "Numpy Array can be thought of as a MATRIX. The array which we created just now is a row matrix. Numpy helps in doing all matrix operations. \n",
    "\n",
    "Sample of MATRIX ADDITION is what we saw just now!\n",
    "\n",
    "Try out creating an array like this: \n",
    "\n",
    "A = np.array([[1,2,3],[4,5,6],[7,8,9]]); \n",
    "\n",
    "This is printing a matrix of size 3 X 3.\n",
    "\n",
    "##Exercises for later ##\n",
    "\n",
    "Try out other MATRIX Operations - Subtraction, Dot Product, Multiplication! "
   ]
  }
 ],
 "metadata": {
  "anaconda-cloud": {},
  "kernelspec": {
   "display_name": "Python [conda root]",
   "language": "python",
   "name": "conda-root-py"
  },
  "language_info": {
   "codemirror_mode": {
    "name": "ipython",
    "version": 2
   },
   "file_extension": ".py",
   "mimetype": "text/x-python",
   "name": "python",
   "nbconvert_exporter": "python",
   "pygments_lexer": "ipython2",
   "version": "2.7.13"
  }
 },
 "nbformat": 4,
 "nbformat_minor": 1
}
